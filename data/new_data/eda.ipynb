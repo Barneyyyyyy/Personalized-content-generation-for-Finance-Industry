{
 "cells": [
  {
   "cell_type": "code",
   "execution_count": 5,
   "metadata": {},
   "outputs": [
    {
     "name": "stdout",
     "output_type": "stream",
     "text": [
      "Error decoding JSON: Extra data: line 1 column 972 (char 971)\n",
      "Error decoding JSON: Expecting value: line 2 column 1 (char 1)\n",
      "Error decoding JSON: Expecting value: line 2 column 1 (char 1)\n",
      "Error decoding JSON: Expecting value: line 1 column 5 (char 4)\n"
     ]
    }
   ],
   "source": [
    "import pandas as pd\n",
    "import json\n",
    "\n",
    "# Assuming 'finetuning_dataset.jsonl' is correctly formatted, where each line is a valid JSON object\n",
    "path_to_jsonl_file = 'finetuning_dataset.jsonl'  # Make sure this is the correct path\n",
    "\n",
    "data = []\n",
    "with open(path_to_jsonl_file, 'r') as file:\n",
    "    for line in file:\n",
    "        try:\n",
    "            data.append(json.loads(line))\n",
    "        except json.JSONDecodeError as e:\n",
    "            print(f\"Error decoding JSON: {e}\")\n",
    "\n",
    "# Convert the list of dictionaries to a DataFrame\n",
    "df = pd.DataFrame(data)\n",
    "\n",
    "# Followed by the analysis code as previously mentioned...\n"
   ]
  },
  {
   "cell_type": "code",
   "execution_count": 8,
   "metadata": {},
   "outputs": [
    {
     "ename": "NameError",
     "evalue": "name 'json_normalize' is not defined",
     "output_type": "error",
     "traceback": [
      "\u001b[0;31m---------------------------------------------------------------------------\u001b[0m",
      "\u001b[0;31mNameError\u001b[0m                                 Traceback (most recent call last)",
      "Cell \u001b[0;32mIn[8], line 10\u001b[0m\n\u001b[1;32m      7\u001b[0m df \u001b[38;5;241m=\u001b[39m pd\u001b[38;5;241m.\u001b[39mjson_normalize(data, record_path\u001b[38;5;241m=\u001b[39m[\u001b[38;5;124m'\u001b[39m\u001b[38;5;124mmessages\u001b[39m\u001b[38;5;124m'\u001b[39m])\n\u001b[1;32m      9\u001b[0m \u001b[38;5;66;03m# Normalize the data to create a flat table\u001b[39;00m\n\u001b[0;32m---> 10\u001b[0m df \u001b[38;5;241m=\u001b[39m \u001b[43mjson_normalize\u001b[49m(data, record_path\u001b[38;5;241m=\u001b[39m[\u001b[38;5;124m'\u001b[39m\u001b[38;5;124mmessages\u001b[39m\u001b[38;5;124m'\u001b[39m])\n\u001b[1;32m     12\u001b[0m \u001b[38;5;66;03m# Filter for assistant's role and calculate the token count\u001b[39;00m\n\u001b[1;32m     13\u001b[0m df[\u001b[38;5;124m'\u001b[39m\u001b[38;5;124mtoken_count\u001b[39m\u001b[38;5;124m'\u001b[39m] \u001b[38;5;241m=\u001b[39m df[df[\u001b[38;5;124m'\u001b[39m\u001b[38;5;124mrole\u001b[39m\u001b[38;5;124m'\u001b[39m] \u001b[38;5;241m==\u001b[39m \u001b[38;5;124m'\u001b[39m\u001b[38;5;124massistant\u001b[39m\u001b[38;5;124m'\u001b[39m][\u001b[38;5;124m'\u001b[39m\u001b[38;5;124mcontent\u001b[39m\u001b[38;5;124m'\u001b[39m]\u001b[38;5;241m.\u001b[39mapply(\u001b[38;5;28;01mlambda\u001b[39;00m x: \u001b[38;5;28mlen\u001b[39m(x\u001b[38;5;241m.\u001b[39msplit()))\n",
      "\u001b[0;31mNameError\u001b[0m: name 'json_normalize' is not defined"
     ]
    }
   ],
   "source": [
    "import pandas as pd\n",
    "import json\n",
    "\n",
    "# Correct path to your .jsonl file\n",
    "path_to_jsonl_file = 'finetuning_dataset.jsonl'  # Update this path\n",
    "\n",
    "df = pd.json_normalize(data, record_path=['messages'])\n",
    "\n",
    "# Normalize the data to create a flat table\n",
    "df = json_normalize(data, record_path=['messages'])\n",
    "\n",
    "# Filter for assistant's role and calculate the token count\n",
    "df['token_count'] = df[df['role'] == 'assistant']['content'].apply(lambda x: len(x.split()))\n",
    "\n",
    "# Define a function to identify parameters (customize this to fit your needs)\n",
    "def identify_parameters(content):\n",
    "    # Example identification logic\n",
    "    parameters = {\n",
    "        'is_email': 'email' in content.lower(),\n",
    "        'is_social_media_post': any(word in content.lower() for word in ['instagram', 'facebook', 'twitter', '#']),\n",
    "        # Add other parameter identification logic as needed\n",
    "    }\n",
    "    return parameters\n",
    "\n",
    "# Apply the function to the 'content' column\n",
    "df['parameters'] = df[df['role'] == 'assistant']['content'].apply(lambda x: identify_parameters(x))\n",
    "\n",
    "# Since 'parameters' is a dictionary, let's expand it into separate columns\n",
    "parameters_df = df['parameters'].apply(pd.Series)\n",
    "\n",
    "# Now, you can perform your analyses on 'token_count' and the parameter columns\n",
    "total_tokens = df['token_count'].sum()\n",
    "print(f\"Total tokens in assistant's messages: {total_tokens}\")\n",
    "\n",
    "# Example analysis on parameters\n",
    "is_email_count = parameters_df['is_email'].sum()\n",
    "is_social_media_post_count = parameters_df['is_social_media_post'].sum()\n",
    "\n",
    "print(f\"Number of assistant's messages identified as emails: {is_email_count}\")\n",
    "print(f\"Number of assistant's messages identified as social media posts: {is_social_media_post_count}\")\n"
   ]
  }
 ],
 "metadata": {
  "kernelspec": {
   "display_name": ".venv",
   "language": "python",
   "name": "python3"
  },
  "language_info": {
   "codemirror_mode": {
    "name": "ipython",
    "version": 3
   },
   "file_extension": ".py",
   "mimetype": "text/x-python",
   "name": "python",
   "nbconvert_exporter": "python",
   "pygments_lexer": "ipython3",
   "version": "3.11.7"
  }
 },
 "nbformat": 4,
 "nbformat_minor": 2
}
