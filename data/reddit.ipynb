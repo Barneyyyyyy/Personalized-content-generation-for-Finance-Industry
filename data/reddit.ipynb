{
 "cells": [
  {
   "cell_type": "code",
   "execution_count": 21,
   "metadata": {},
   "outputs": [
    {
     "ename": "ModuleNotFoundError",
     "evalue": "No module named 'praw'",
     "output_type": "error",
     "traceback": [
      "\u001b[0;31m---------------------------------------------------------------------------\u001b[0m",
      "\u001b[0;31mModuleNotFoundError\u001b[0m                       Traceback (most recent call last)",
      "Cell \u001b[0;32mIn[21], line 1\u001b[0m\n\u001b[0;32m----> 1\u001b[0m \u001b[38;5;28;01mimport\u001b[39;00m \u001b[38;5;21;01mpraw\u001b[39;00m\n\u001b[1;32m      2\u001b[0m \u001b[38;5;28;01mimport\u001b[39;00m \u001b[38;5;21;01mpandas\u001b[39;00m \u001b[38;5;28;01mas\u001b[39;00m \u001b[38;5;21;01mpd\u001b[39;00m\n\u001b[1;32m      4\u001b[0m \u001b[38;5;66;03m# Initialize PRAW with your Reddit application credentials\u001b[39;00m\n",
      "\u001b[0;31mModuleNotFoundError\u001b[0m: No module named 'praw'"
     ]
    }
   ],
   "source": [
    "import praw\n",
    "import pandas as pd\n",
    "\n",
    "# Initialize PRAW with your Reddit application credentials\n",
    "reddit = praw.Reddit(\n",
    "    client_id='-3sYk8hZ6jvFFFQLH0EL4A',  # Replace with your client id (keep it secret!)\n",
    "    client_secret='hBLpcJBfhGGtY6NEXchMCh3fpkulLw',  # Replace with your client secret (keep it secret!)\n",
    "    user_agent='script:Sentinmental_:v1.0 (by u/your_reddit_username)'  # Replace with your Reddit username\n",
    ")\n",
    "\n",
    "# Define the subreddits you want to scrape\n",
    "subreddit_names = ['PersonalFinanceCanada', 'PersonalFinance', 'churningcanada']\n",
    "\n",
    "# Create a list to store the posts\n",
    "posts_data = []\n",
    "\n",
    "# Fetch posts from each subreddit\n",
    "for subreddit_name in subreddit_names:  # Loop through each subreddit name\n",
    "    subreddit = reddit.subreddit(subreddit_name)  # Access the subreddit\n",
    "    for submission in subreddit.hot(limit=10000):  # Fetch hot posts, adjust the limit as needed\n",
    "        post_data = {\n",
    "            'Title': submission.title,\n",
    "            'Body': submission.selftext if hasattr(submission, 'selftext') else \"\",  # Include post body if available\n",
    "            'Subreddit': subreddit_name,\n",
    "            'Author': str(submission.author),\n",
    "            'Date': submission.created_utc,  # Include timestamp\n",
    "            'Score': submission.score,\n",
    "            'Number of Comments': submission.num_comments,\n",
    "            'URL': submission.url  # Include post URL\n",
    "            # Add more attributes as needed\n",
    "        }\n",
    "        posts_data.append(post_data)\n",
    "\n",
    "# Define the path to save the CSV file\n",
    "csv_file_path = 'data/reddit.csv'\n",
    "\n",
    "# Save the DataFrame to a CSV file\n",
    "posts_df.to_csv(csv_file_path, index=False, encoding='utf-8')\n",
    "\n",
    "print(f\"Total unique posts collected: {len(posts_data)}\")\n"
   ]
  }
 ],
 "metadata": {
  "kernelspec": {
   "display_name": "Python 3",
   "language": "python",
   "name": "python3"
  },
  "language_info": {
   "codemirror_mode": {
    "name": "ipython",
    "version": 3
   },
   "file_extension": ".py",
   "mimetype": "text/x-python",
   "name": "python",
   "nbconvert_exporter": "python",
   "pygments_lexer": "ipython3",
   "version": "3.11.7"
  }
 },
 "nbformat": 4,
 "nbformat_minor": 2
}
