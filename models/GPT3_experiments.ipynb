{
 "cells": [
  {
   "cell_type": "code",
   "execution_count": 8,
   "metadata": {},
   "outputs": [
    {
     "name": "stdout",
     "output_type": "stream",
     "text": [
      "ChatCompletionMessage(content='For global professionals our International Work account is your banking companion Offering fee-free international transfers competitive exchange rates and access to a network of partner banks worldwide you can manage your finances quickly and efficiently wherever you are Experience seamless banking tailored to your international career and enjoy the convenience of our digital tools and services No monthly maintenance fees and a complimentary first order of foreign currency checks provide added value to make your banking experience stress-free and focused on what matters most - your work. Sign up today and bank with us to create your global financial strategy.', role='assistant', function_call=None, tool_calls=None)\n"
     ]
    }
   ],
   "source": [
    "from openai import OpenAI\n",
    "from dotenv import load_dotenv\n",
    "import os\n",
    "\n",
    "\n",
    "# Load the environment variables from the .env file\n",
    "load_dotenv()\n",
    "\n",
    "# Set your OpenAI API key\n",
    "client = OpenAI(api_key=os.getenv('OPENAI_API_KEY'))\n",
    "\n",
    "# Define the ID of your fine-tuned model\n",
    "fine_tuned_model = \"ft:gpt-3.5-turbo-0125:personal::96P28LRb\"\n",
    "\n",
    "# Use the fine-tuned model to generate a completion\n",
    "answer = client.chat.completions.create(\n",
    "  model=fine_tuned_model,\n",
    "  messages=[\n",
    "    {\"role\": \"system\", \"content\": \"This is a parameter-based prompt for creating marketing materials\"},\n",
    "    {\"role\": \"user\", \"content\": \"Create a website marketing campaign in 100 words for a Checking Account aimed at international workers\"},\n",
    "  ]\n",
    ")\n",
    "\n",
    "print(answer.choices[0].message)"
   ]
  },
  {
   "cell_type": "code",
   "execution_count": 9,
   "metadata": {},
   "outputs": [
    {
     "name": "stdout",
     "output_type": "stream",
     "text": [
      "ChatCompletionMessage(content='Join our Citizens Savings Account and start your journey towards financial stability. Guaranteed growth on all deposits with no monthly fees. Your hard-earned money deserves to grow. Bank with us and watch your savings flourish.', role='assistant', function_call=None, tool_calls=None)\n"
     ]
    }
   ],
   "source": [
    "from openai import OpenAI\n",
    "from dotenv import load_dotenv\n",
    "import os\n",
    "\n",
    "\n",
    "# Load the environment variables from the .env file\n",
    "load_dotenv()\n",
    "\n",
    "# Set your OpenAI API key\n",
    "client = OpenAI(api_key=os.getenv('OPENAI_API_KEY'))\n",
    "\n",
    "# Define the ID of your fine-tuned model\n",
    "fine_tuned_model = \"ft:gpt-3.5-turbo-0125:personal::96P28LRb\"\n",
    "\n",
    "# Use the fine-tuned model to generate a completion\n",
    "answer = client.chat.completions.create(\n",
    "  model=fine_tuned_model,\n",
    "  messages=[\n",
    "    {\"role\": \"system\", \"content\": \"This is a parameter-based prompt for creating marketing materials\"},\n",
    "    {\"role\": \"user\", \"content\": \"Create a twitter campaign in 50 words for a Saving Account aimed at Citizens\"},\n",
    "  ]\n",
    ")\n",
    "\n",
    "print(answer.choices[0].message)"
   ]
  },
  {
   "cell_type": "code",
   "execution_count": 10,
   "metadata": {},
   "outputs": [
    {
     "name": "stdout",
     "output_type": "stream",
     "text": [
      "ChatCompletionMessage(content='Our International Workers Savings Account helps you securely manage your finances. Receive up to a 1.5% interest rate and benefit from low transfer fees tailored to your cross-border lifestyle. Plus enjoy convenient online banking and a dedicated relationship manager. Simplify your savings routine and stay financially secure wherever you are.', role='assistant', function_call=None, tool_calls=None)\n"
     ]
    }
   ],
   "source": [
    "from openai import OpenAI\n",
    "from dotenv import load_dotenv\n",
    "import os\n",
    "\n",
    "\n",
    "# Load the environment variables from the .env file\n",
    "load_dotenv()\n",
    "\n",
    "# Set your OpenAI API key\n",
    "client = OpenAI(api_key=os.getenv('OPENAI_API_KEY'))\n",
    "\n",
    "# Define the ID of your fine-tuned model\n",
    "fine_tuned_model = \"ft:gpt-3.5-turbo-0125:personal::96P28LRb\"\n",
    "\n",
    "# Use the fine-tuned model to generate a completion\n",
    "answer = client.chat.completions.create(\n",
    "  model=fine_tuned_model,\n",
    "  messages=[\n",
    "    {\"role\": \"system\", \"content\": \"This is a parameter-based prompt for creating marketing materials\"},\n",
    "    {\"role\": \"user\", \"content\": \"Create a email campaign in 200 words for a Saving Account aimed at international workers\"},\n",
    "  ]\n",
    ")\n",
    "\n",
    "print(answer.choices[0].message)"
   ]
  },
  {
   "cell_type": "code",
   "execution_count": 11,
   "metadata": {},
   "outputs": [
    {
     "name": "stdout",
     "output_type": "stream",
     "text": [
      "ChatCompletionMessage(content=\"For the globe-trotters ensuring your earnings are secure wherever work takes you is essential. Our International Worker's Savings Account is designed just for you with global access convenient transfers and competitive interest rates. Seamlessly manage your funds online or in our branches worldwide putting your money to work for you. Joining is quick and free with no monthly fees. Plus enjoy special perks like discounted international transfers and expert financial guidance tailored to your unique work lifestyle. Start planning for your future financial goals with a savings account that moves with you. Partner with us - your global financial companion.\", role='assistant', function_call=None, tool_calls=None)\n"
     ]
    }
   ],
   "source": [
    "from openai import OpenAI\n",
    "from dotenv import load_dotenv\n",
    "import os\n",
    "\n",
    "\n",
    "# Load the environment variables from the .env file\n",
    "load_dotenv()\n",
    "\n",
    "# Set your OpenAI API key\n",
    "client = OpenAI(api_key=os.getenv('OPENAI_API_KEY'))\n",
    "\n",
    "# Define the ID of your fine-tuned model\n",
    "fine_tuned_model = \"ft:gpt-3.5-turbo-0125:personal::96P28LRb\"\n",
    "\n",
    "# Use the fine-tuned model to generate a completion\n",
    "answer = client.chat.completions.create(\n",
    "  model=fine_tuned_model,\n",
    "  messages=[\n",
    "    {\"role\": \"system\", \"content\": \"This is a parameter-based prompt for creating marketing materials\"},\n",
    "    {\"role\": \"user\", \"content\": \"Create a website campaign in 200 words for a Saving Account aimed at international workers\"},\n",
    "  ]\n",
    ")\n",
    "\n",
    "print(answer.choices[0].message)"
   ]
  },
  {
   "cell_type": "code",
   "execution_count": 12,
   "metadata": {},
   "outputs": [
    {
     "name": "stdout",
     "output_type": "stream",
     "text": [
      "ChatCompletionMessage(content='Upgrade your financial journey with our Permanent Resident Credit Card Account. Designed to support newcomers to the US, the card offers a seamless banking experience with no credit history required. Enjoy a range of benefits including cash back on everyday purchases and tailored credit-building support. From groceries to transportation to streaming services this card is your key to unlocking more value from spending. ', role='assistant', function_call=None, tool_calls=None)\n"
     ]
    }
   ],
   "source": [
    "from openai import OpenAI\n",
    "from dotenv import load_dotenv\n",
    "import os\n",
    "\n",
    "\n",
    "# Load the environment variables from the .env file\n",
    "load_dotenv()\n",
    "\n",
    "# Set your OpenAI API key\n",
    "client = OpenAI(api_key=os.getenv('OPENAI_API_KEY'))\n",
    "\n",
    "# Define the ID of your fine-tuned model\n",
    "fine_tuned_model = \"ft:gpt-3.5-turbo-0125:personal::96P28LRb\"\n",
    "\n",
    "# Use the fine-tuned model to generate a completion\n",
    "answer = client.chat.completions.create(\n",
    "  model=fine_tuned_model,\n",
    "  messages=[\n",
    "    {\"role\": \"system\", \"content\": \"This is a parameter-based prompt for creating marketing materials\"},\n",
    "    {\"role\": \"user\", \"content\": \"Create a website campaign in 300 words for a Credit Card Account aimed at Permanent residents\"},\n",
    "  ]\n",
    ")\n",
    "\n",
    "print(answer.choices[0].message)"
   ]
  },
  {
   "cell_type": "code",
   "execution_count": 23,
   "metadata": {},
   "outputs": [
    {
     "name": "stdout",
     "output_type": "stream",
     "text": [
      "ChatCompletionMessage(content='Unlock financial growth with our Student Savings Account. Tailored to support your academic journey this account offers competitive interest rates on your savings. Our unique tools help you track your expenses set savings goals and build healthy financial habits. Start your financial journey with us and take the next step towards a brighter future. Join us today and embrace financial empowerment!', role='assistant', function_call=None, tool_calls=None)\n"
     ]
    }
   ],
   "source": [
    "from openai import OpenAI\n",
    "from dotenv import load_dotenv\n",
    "import os\n",
    "\n",
    "\n",
    "# Load the environment variables from the .env file\n",
    "load_dotenv()\n",
    "\n",
    "# Set your OpenAI API key\n",
    "client = OpenAI(api_key=os.getenv('OPENAI_API_KEY'))\n",
    "\n",
    "# Define the ID of your fine-tuned model\n",
    "fine_tuned_model = \"ft:gpt-3.5-turbo-0125:personal::96P28LRb\"\n",
    "\n",
    "# Use the fine-tuned model to generate a completion\n",
    "answer = client.chat.completions.create(\n",
    "  model=fine_tuned_model,\n",
    "  temperature=0.9,\n",
    "  messages=[\n",
    "     {\"role\": \"system\", \"content\": \"As a text generator, you have to generate text using the parameter-based prompt for creating marketing materials with the type of bank account and the target audience with 600 tokens\"},   \n",
    "    {\"role\": \"user\", \"content\": \"Generate a website campaign for a Savings Account aimed at students. Please provide a comprehensive campaign with approximately 600 tokens. Include detailed benefits, features, and a call to action.\"},\n",
    "  ]\n",
    ")\n",
    "\n",
    "print(answer.choices[0].message)"
   ]
  },
  {
   "cell_type": "code",
   "execution_count": 27,
   "metadata": {},
   "outputs": [
    {
     "name": "stdout",
     "output_type": "stream",
     "text": [
      "ChatCompletionMessage(content='Kickstart your financial future with our Student Savings Account! Designed exclusively for students our account offers high-interest rates and no monthly fees. With convenient banking options and savings tools tailored to your needs. Start saving smarter and easily track your expenses. Prepare for a prosperous tomorrow today. Sign up now and let your money grow with you.', role='assistant', function_call=None, tool_calls=None)\n"
     ]
    }
   ],
   "source": [
    "from openai import OpenAI\n",
    "from dotenv import load_dotenv\n",
    "import os\n",
    "\n",
    "\n",
    "# Load the environment variables from the .env file\n",
    "load_dotenv()\n",
    "\n",
    "# Set your OpenAI API key\n",
    "client = OpenAI(api_key=os.getenv('OPENAI_API_KEY'))\n",
    "\n",
    "# Define the ID of your fine-tuned model\n",
    "fine_tuned_model = \"ft:gpt-3.5-turbo-0125:personal::96P28LRb\"\n",
    "\n",
    "# Use the fine-tuned model to generate a completion\n",
    "answer = client.chat.completions.create(\n",
    "  model=fine_tuned_model,\n",
    "  temperature=0.9,\n",
    "  max_tokens=600,\n",
    "  messages=[\n",
    "     {\"role\": \"system\", \"content\": \"As a text generator, you have to generate text using the parameter-based prompt for creating marketing materials with the type of bank account and the target audience with 600 tokens\"},   \n",
    "    {\"role\": \"user\", \"content\": \"Generate a website campaign for a Savings Account aimed at students. Please provide a comprehensive campaign with approximately 600 tokens. Include detailed benefits, features, and a call to action.\"},\n",
    "  ]\n",
    ")\n",
    "\n",
    "print(answer.choices[0].message)"
   ]
  },
  {
   "cell_type": "code",
   "execution_count": 30,
   "metadata": {},
   "outputs": [
    {
     "name": "stdout",
     "output_type": "stream",
     "text": [
      "ChatCompletionMessage(content='Spark your student life with our Credit Card and enjoy exclusive discounts on textbooks and school supplies. Track your budget with our expense monitoring feature and build your credit score for a bright future. Apply now and upgrade your financial journey!', role='assistant', function_call=None, tool_calls=None)\n"
     ]
    }
   ],
   "source": [
    "from openai import OpenAI\n",
    "from dotenv import load_dotenv\n",
    "import os\n",
    "\n",
    "\n",
    "# Load the environment variables from the .env file\n",
    "load_dotenv()\n",
    "\n",
    "# Set your OpenAI API key\n",
    "client = OpenAI(api_key=os.getenv('OPENAI_API_KEY'))\n",
    "\n",
    "# Define the ID of your fine-tuned model\n",
    "fine_tuned_model = \"ft:gpt-3.5-turbo-0125:personal::96P28LRb\"\n",
    "\n",
    "# Use the fine-tuned model to generate a completion\n",
    "answer = client.chat.completions.create(\n",
    "  model=fine_tuned_model,\n",
    "  temperature=0.9,\n",
    "  max_tokens=1000,\n",
    "  messages=[\n",
    "     {\"role\": \"system\", \"content\": \"As a text generator, you have to generate text using the parameter-based prompt for creating marketing materials with the type of bank account and the target audience with 600 tokens\"},   \n",
    "    {\"role\": \"user\", \"content\": \"Generate a twitter campaign for Credit cards aimed at students. Please provide a comprehensive campaign with approximately 600 tokens. Include detailed benefits, features, and a call to action.\"},\n",
    "  ]\n",
    ")\n",
    "\n",
    "print(answer.choices[0].message)"
   ]
  }
 ],
 "metadata": {
  "kernelspec": {
   "display_name": ".venv",
   "language": "python",
   "name": "python3"
  },
  "language_info": {
   "codemirror_mode": {
    "name": "ipython",
    "version": 3
   },
   "file_extension": ".py",
   "mimetype": "text/x-python",
   "name": "python",
   "nbconvert_exporter": "python",
   "pygments_lexer": "ipython3",
   "version": "3.11.7"
  }
 },
 "nbformat": 4,
 "nbformat_minor": 2
}
