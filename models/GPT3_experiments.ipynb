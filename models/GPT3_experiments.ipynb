{
 "cells": [
  {
   "cell_type": "code",
   "execution_count": 1,
   "metadata": {},
   "outputs": [
    {
     "name": "stdout",
     "output_type": "stream",
     "text": [
      "ChatCompletionMessage(content=\"Explore a tailored banking experience when working abroad with our Checking Account! designed for international workers, our account offers seamless access to your hard-earned funds globally. Enjoy a suite of digital tools to manage your money efficiently, like instant transfers and spending insights. Forget hidden fees - our transparent model keeps your finances in focus. Settle into your new life with confidence, as our comprehensive support ensures you're covered wherever your journey takes you. With personalized service that understands your unique needs, get ready to navigate the financial landscape effortlessly, no matter where you are in the world.\", role='assistant', function_call=None, tool_calls=None)\n"
     ]
    }
   ],
   "source": [
    "from openai import OpenAI\n",
    "from dotenv import load_dotenv\n",
    "import os\n",
    "\n",
    "\n",
    "# Load the environment variables from the .env file\n",
    "load_dotenv()\n",
    "\n",
    "# Set your OpenAI API key\n",
    "client = OpenAI(api_key=os.getenv('OPENAI_API_KEY'))\n",
    "\n",
    "# Define the ID of your fine-tuned model\n",
    "fine_tuned_model = \"ft:gpt-3.5-turbo-0125:personal::99Du0H0D\"\n",
    "\n",
    "# Use the fine-tuned model to generate a completion\n",
    "answer = client.chat.completions.create(\n",
    "  model=fine_tuned_model,\n",
    "  messages=[\n",
    "    {\"role\": \"system\", \"content\": \"This is a parameter-based prompt for creating marketing materials\"},\n",
    "    {\"role\": \"user\", \"content\": \"Create a website marketing campaign in 100 words for a Checking Account aimed at international workers\"},\n",
    "  ]\n",
    ")\n",
    "\n",
    "print(answer.choices[0].message)"
   ]
  },
  {
   "cell_type": "code",
   "execution_count": 2,
   "metadata": {},
   "outputs": [
    {
     "name": "stdout",
     "output_type": "stream",
     "text": [
      "ChatCompletionMessage(content=\"Welcome to the Savings Solution! Start your journey to financial freedom with our high-yield interest rate and zero fees. Protect your future, save effortlessly, and enjoy peace of mind. Join the Citizens' Savings Movement today! #SecureSavings #ProtectYourFuture #FinancialFreedom #ZeroFees #CitizensBank\", role='assistant', function_call=None, tool_calls=None)\n"
     ]
    }
   ],
   "source": [
    "from openai import OpenAI\n",
    "from dotenv import load_dotenv\n",
    "import os\n",
    "\n",
    "\n",
    "# Load the environment variables from the .env file\n",
    "load_dotenv()\n",
    "\n",
    "# Set your OpenAI API key\n",
    "client = OpenAI(api_key=os.getenv('OPENAI_API_KEY'))\n",
    "\n",
    "# Define the ID of your fine-tuned model\n",
    "fine_tuned_model = \"ft:gpt-3.5-turbo-0125:personal::99Du0H0D\"\n",
    "\n",
    "# Use the fine-tuned model to generate a completion\n",
    "answer = client.chat.completions.create(\n",
    "  model=fine_tuned_model,\n",
    "  messages=[\n",
    "    {\"role\": \"system\", \"content\": \"This is a parameter-based prompt for creating marketing materials\"},\n",
    "    {\"role\": \"user\", \"content\": \"Create a twitter campaign in 50 words for a Saving Account aimed at Citizens\"},\n",
    "  ]\n",
    ")\n",
    "\n",
    "print(answer.choices[0].message)"
   ]
  },
  {
   "cell_type": "code",
   "execution_count": 3,
   "metadata": {},
   "outputs": [
    {
     "name": "stdout",
     "output_type": "stream",
     "text": [
      "ChatCompletionMessage(content=\"Looking to save smarter as you build a new life abroad? Our International Worker's Savings Account is tailored for your financial success. Earn up to 2% in annual interest, ensuring your funds grow steadily while you focus on your career milestones. Experience zero fees on foreign transactions, whether you're sending funds to loved ones or investing in your future. Our bilingual customer support team is always at your service, whether to answer a question or offer guidance on your financial journey. Bring the familiarity of home to your banking experience with our intuitive mobile app, designed to meet your expectations for global navigation and secure access. Sign up today to experience savings with no limits and a service that transcends borders, connecting you to your money in a way that feels like you never left home.\", role='assistant', function_call=None, tool_calls=None)\n"
     ]
    }
   ],
   "source": [
    "from openai import OpenAI\n",
    "from dotenv import load_dotenv\n",
    "import os\n",
    "\n",
    "\n",
    "# Load the environment variables from the .env file\n",
    "load_dotenv()\n",
    "\n",
    "# Set your OpenAI API key\n",
    "client = OpenAI(api_key=os.getenv('OPENAI_API_KEY'))\n",
    "\n",
    "# Define the ID of your fine-tuned model\n",
    "fine_tuned_model = \"ft:gpt-3.5-turbo-0125:personal::99Du0H0D\"\n",
    "\n",
    "# Use the fine-tuned model to generate a completion\n",
    "answer = client.chat.completions.create(\n",
    "  model=fine_tuned_model,\n",
    "  messages=[\n",
    "    {\"role\": \"system\", \"content\": \"This is a parameter-based prompt for creating marketing materials\"},\n",
    "    {\"role\": \"user\", \"content\": \"Create a email campaign in 200 words for a Saving Account aimed at international workers\"},\n",
    "  ]\n",
    ")\n",
    "\n",
    "print(answer.choices[0].message)"
   ]
  },
  {
   "cell_type": "code",
   "execution_count": 4,
   "metadata": {},
   "outputs": [
    {
     "name": "stdout",
     "output_type": "stream",
     "text": [
      "ChatCompletionMessage(content=\"Embark on a financial journey without borders with our International Worker Saving Account. A virtual treasure trove for global travelers, this account fuses the safety of traditional banking with the convenience of modern technology, accommodating your diverse fortune needs. From Dubai skylines to Caribbean beaches, your funds are securely anchored in a digital haven, accessible anytime, anywhere. No more hefty conversion fees or uncertain exchange rates—our account speaks the language of international trade, allowing your savings to flourish regardless of location. Visualize your future through our user-friendly interface, monitoring your progress with detailed breakdowns and forecasts tailored to your unique financial footprint. And the cherry on top? Seamless integration with your lifestyle—whether it's planning a year-long sabbatical or building your global empire, our account is your steadfast companion. So, if you're a citizen of the world looking for a financial partner that can keep up with your nomadic ambitions, step into the realm of limitless saving potential.\", role='assistant', function_call=None, tool_calls=None)\n"
     ]
    }
   ],
   "source": [
    "from openai import OpenAI\n",
    "from dotenv import load_dotenv\n",
    "import os\n",
    "\n",
    "\n",
    "# Load the environment variables from the .env file\n",
    "load_dotenv()\n",
    "\n",
    "# Set your OpenAI API key\n",
    "client = OpenAI(api_key=os.getenv('OPENAI_API_KEY'))\n",
    "\n",
    "# Define the ID of your fine-tuned model\n",
    "fine_tuned_model = \"ft:gpt-3.5-turbo-0125:personal::99Du0H0D\"\n",
    "\n",
    "# Use the fine-tuned model to generate a completion\n",
    "answer = client.chat.completions.create(\n",
    "  model=fine_tuned_model,\n",
    "  messages=[\n",
    "    {\"role\": \"system\", \"content\": \"This is a parameter-based prompt for creating marketing materials\"},\n",
    "    {\"role\": \"user\", \"content\": \"Create a website campaign in 200 words for a Saving Account aimed at international workers\"},\n",
    "  ]\n",
    ")\n",
    "\n",
    "print(answer.choices[0].message)"
   ]
  },
  {
   "cell_type": "code",
   "execution_count": 5,
   "metadata": {},
   "outputs": [
    {
     "name": "stdout",
     "output_type": "stream",
     "text": [
      "ChatCompletionMessage(content='Introducing a Credit Card Account designed for those who choose to make Canada their permanent home. With robust rewards centered on everyday life, each purchase empowers your journey forward. Envision an unparalleled welcome with no annual fee in the first year, liberating your enthusiasm for exploration and settling in. Benefit from special promotional offers and a competitive variable purchase interest rate. Each transaction transforms into a step towards your dreams, no matter how grand.\\n\\nDiscover a credit card that feels like home, with a customizable credit limit designed to adapt to your financial needs as you establish your new life in Canada. With personalized advice and tailored financial solutions, this credit card account serves as a companion in your financial growth. Embark on the path to stability while enjoying the flexibility and ease that comes with this uniquely crafted credit experience.\\n\\nEach feature embodies a commitment to your prosperity, whether through cashback options, personalized transaction alerts, or comprehensive fraud protection. Your future is not just anticipated, but meticulously prepared for, with an account structure that ensures both security and accountability.\\n\\nAs you build a life in a new land, this Credit Card Account stands as a testament to seamless integration and financial potential. Embrace this opportunity to create a stable foundation while enjoying the limitless opportunities that Canada has to offer. Each aspect of this credit card account reflects a level of excellence that matches your aspirations, making your journey towards permanency as financially rewarding as it is culturally enriching.', role='assistant', function_call=None, tool_calls=None)\n"
     ]
    }
   ],
   "source": [
    "from openai import OpenAI\n",
    "from dotenv import load_dotenv\n",
    "import os\n",
    "\n",
    "\n",
    "# Load the environment variables from the .env file\n",
    "load_dotenv()\n",
    "\n",
    "# Set your OpenAI API key\n",
    "client = OpenAI(api_key=os.getenv('OPENAI_API_KEY'))\n",
    "\n",
    "# Define the ID of your fine-tuned model\n",
    "fine_tuned_model = \"ft:gpt-3.5-turbo-0125:personal::99Du0H0D\"\n",
    "\n",
    "# Use the fine-tuned model to generate a completion\n",
    "answer = client.chat.completions.create(\n",
    "  model=fine_tuned_model,\n",
    "  messages=[\n",
    "    {\"role\": \"system\", \"content\": \"This is a parameter-based prompt for creating marketing materials\"},\n",
    "    {\"role\": \"user\", \"content\": \"Create a website campaign in 300 words for a Credit Card Account aimed at Permanent residents\"},\n",
    "  ]\n",
    ")\n",
    "\n",
    "print(answer.choices[0].message)"
   ]
  },
  {
   "cell_type": "code",
   "execution_count": 6,
   "metadata": {},
   "outputs": [
    {
     "name": "stdout",
     "output_type": "stream",
     "text": [
      "ChatCompletionMessage(content=\"Welcome to the ultimate student savings experience! Our Student Savings Account is not just a place to store your money; it's your financial companion, helping you achieve your academic dreams. With no monthly fees, free transactions, and a competitive interest rate, it's the perfect balance between saving for tomorrow and spending today. Get access to our budgeting tools and personalized financial advice to make the most of your money. Join now and start saving smarter - because your financial future is as important as your GPA.\", role='assistant', function_call=None, tool_calls=None)\n"
     ]
    }
   ],
   "source": [
    "from openai import OpenAI\n",
    "from dotenv import load_dotenv\n",
    "import os\n",
    "\n",
    "\n",
    "# Load the environment variables from the .env file\n",
    "load_dotenv()\n",
    "\n",
    "# Set your OpenAI API key\n",
    "client = OpenAI(api_key=os.getenv('OPENAI_API_KEY'))\n",
    "\n",
    "# Define the ID of your fine-tuned model\n",
    "fine_tuned_model = \"ft:gpt-3.5-turbo-0125:personal::99Du0H0D\"\n",
    "\n",
    "# Use the fine-tuned model to generate a completion\n",
    "answer = client.chat.completions.create(\n",
    "  model=fine_tuned_model,\n",
    "  temperature=0.9,\n",
    "  messages=[\n",
    "     {\"role\": \"system\", \"content\": \"As a text generator, you have to generate text using the parameter-based prompt for creating marketing materials with the type of bank account and the target audience with 600 tokens\"},   \n",
    "    {\"role\": \"user\", \"content\": \"Generate a website campaign for a Savings Account aimed at students. Please provide a comprehensive campaign with approximately 600 tokens. Include detailed benefits, features, and a call to action.\"},\n",
    "  ]\n",
    ")\n",
    "\n",
    "print(answer.choices[0].message)"
   ]
  },
  {
   "cell_type": "code",
   "execution_count": 7,
   "metadata": {},
   "outputs": [
    {
     "name": "stdout",
     "output_type": "stream",
     "text": [
      "ChatCompletionMessage(content=\"Welcome to the Student Saver Oasis! Your educational journey deserves a sidekick that makes saving fun and rewarding. Say hello to zero fees, and a competitive interest rate that grows your funds round-the-clock. Keep track of every dollar through our user-friendly app and revel in the security of our ironclad fraud protection. Whether you're saving for textbooks, a dream trip, or a shiny new laptop, we offer the flexibility to fit any budget. Our commitment to your financial well-being goes beyond traditional banking. We provide exclusive discounts at partner outlets, ensuring that every purchase you make adds to your savings. Ready to embark on the exciting road to financial independence? Join the Student Saver Oasis today and kick-start your future with a bank that has your back.\", role='assistant', function_call=None, tool_calls=None)\n"
     ]
    }
   ],
   "source": [
    "from openai import OpenAI\n",
    "from dotenv import load_dotenv\n",
    "import os\n",
    "\n",
    "\n",
    "# Load the environment variables from the .env file\n",
    "load_dotenv()\n",
    "\n",
    "# Set your OpenAI API key\n",
    "client = OpenAI(api_key=os.getenv('OPENAI_API_KEY'))\n",
    "\n",
    "# Define the ID of your fine-tuned model\n",
    "fine_tuned_model = \"ft:gpt-3.5-turbo-0125:personal::99Du0H0D\"\n",
    "\n",
    "# Use the fine-tuned model to generate a completion\n",
    "answer = client.chat.completions.create(\n",
    "  model=fine_tuned_model,\n",
    "  temperature=0.9,\n",
    "  max_tokens=600,\n",
    "  messages=[\n",
    "     {\"role\": \"system\", \"content\": \"As a text generator, you have to generate text using the parameter-based prompt for creating marketing materials with the type of bank account and the target audience with 600 tokens\"},   \n",
    "    {\"role\": \"user\", \"content\": \"Generate a website campaign for a Savings Account aimed at students. Please provide a comprehensive campaign with approximately 600 tokens. Include detailed benefits, features, and a call to action.\"},\n",
    "  ]\n",
    ")\n",
    "\n",
    "print(answer.choices[0].message)"
   ]
  },
  {
   "cell_type": "code",
   "execution_count": 12,
   "metadata": {},
   "outputs": [
    {
     "name": "stdout",
     "output_type": "stream",
     "text": [
      "ChatCompletionMessage(content=\"Welcome to a world of financial freedom tailored for students! Our student credit card is more than just a card; it's a companion on your educational journey. Enjoy the convenience of cashless transactions, exclusive discounts, and a seamless digital experience. With no annual fees and a low-interest rate, it's the perfect balance between financial flexibility and responsible spending. Join the league of savvy students who are making the most of their money while building a solid credit history. Ready to embark on a journey of smart spending and valuable rewards? Apply now and start reaping the benefits of financial empowerment!\", role='assistant', function_call=None, tool_calls=None)\n"
     ]
    }
   ],
   "source": [
    "from openai import OpenAI\n",
    "from dotenv import load_dotenv\n",
    "import os\n",
    "\n",
    "\n",
    "# Load the environment variables from the .env file\n",
    "load_dotenv()\n",
    "\n",
    "# Set your OpenAI API key\n",
    "client = OpenAI(api_key=os.getenv('OPENAI_API_KEY'))\n",
    "\n",
    "# Define the ID of your fine-tuned model\n",
    "fine_tuned_model = \"ft:gpt-3.5-turbo-0125:personal::99Du0H0D\"\n",
    "\n",
    "# Use the fine-tuned model to generate a completion\n",
    "answer = client.chat.completions.create(\n",
    "  model=fine_tuned_model,\n",
    "  temperature=0.3,\n",
    "  max_tokens=1000,\n",
    "  messages=[\n",
    "     {\"role\": \"system\", \"content\": \"As a text generator, you have to generate text using the parameter-based prompt for creating marketing materials with the type of bank account and the target audience with 600 tokens\"},   \n",
    "    {\"role\": \"user\", \"content\": \"Generate a website campaign for credit card for students in a balanced way\"},\n",
    "  ]\n",
    ")\n",
    "\n",
    "print(answer.choices[0].message)"
   ]
  },
  {
   "cell_type": "code",
   "execution_count": 13,
   "metadata": {},
   "outputs": [
    {
     "name": "stdout",
     "output_type": "stream",
     "text": [
      "ChatCompletionMessage(content=\"📧 Subject: Elevate Your Campus Experience with Our Student Credit Card!\\n\\nDear [Student's Name],\\n\\nAre you ready to unlock a world of financial freedom and exclusive perks tailored to your student lifestyle? Our Student Credit Card is not just a card; it's your companion in navigating the exciting journey of university life. With no annual fees and a competitive APR, managing your finances has never been easier.\\n\\nPicture this: cashback on your favorite streaming services, discounts on textbooks, and even bonus points for every coffee run. Our card is designed to reward your everyday spending, making each purchase a step towards your next adventure. Plus, with our mobile app, you can track your expenses, set budgeting goals, and receive real-time notifications, ensuring you stay in control of your money.\\n\\nBut it's not just about the perks; it's about the peace of mind. Our top-notch security features protect you from fraud, so you can focus on your studies without worrying about your finances. And with 24/7 customer support, help is always just a call away.\\n\\nReady to take the first step towards financial independence? Sign up for our Student Credit Card today and start reaping the rewards of responsible spending. Your future self will thank you.\\n\\nHere's to a brighter, bolder, and more financially savvy future!\\n\\nBest regards,\\n\\n[Your Name]\\n[Your Title]\\n[Bank Name]\", role='assistant', function_call=None, tool_calls=None)\n"
     ]
    }
   ],
   "source": [
    "from openai import OpenAI\n",
    "from dotenv import load_dotenv\n",
    "import os\n",
    "\n",
    "\n",
    "# Load the environment variables from the .env file\n",
    "load_dotenv()\n",
    "\n",
    "# Set your OpenAI API key\n",
    "client = OpenAI(api_key=os.getenv('OPENAI_API_KEY'))\n",
    "\n",
    "# Define the ID of your fine-tuned model\n",
    "fine_tuned_model = \"ft:gpt-3.5-turbo-0125:personal::99Du0H0D\"\n",
    "\n",
    "# Use the fine-tuned model to generate a completion\n",
    "answer = client.chat.completions.create(\n",
    "  model=fine_tuned_model,\n",
    "  temperature=0.1,\n",
    "  max_tokens=1000,\n",
    "  messages=[\n",
    "     {\"role\": \"system\", \"content\": \"As a text generator, you have to generate text using the parameter-based prompt for creating marketing materials with the type of bank account and the target audience with 600 tokens\"},   \n",
    "    {\"role\": \"user\", \"content\": \"Generate a email campaign in a email structured manner for credit card for students in a precise tone\"},\n",
    "  ]\n",
    ")\n",
    "\n",
    "print(answer.choices[0].message)"
   ]
  }
 ],
 "metadata": {
  "kernelspec": {
   "display_name": ".venv",
   "language": "python",
   "name": "python3"
  },
  "language_info": {
   "codemirror_mode": {
    "name": "ipython",
    "version": 3
   },
   "file_extension": ".py",
   "mimetype": "text/x-python",
   "name": "python",
   "nbconvert_exporter": "python",
   "pygments_lexer": "ipython3",
   "version": "3.11.5"
  }
 },
 "nbformat": 4,
 "nbformat_minor": 2
}
