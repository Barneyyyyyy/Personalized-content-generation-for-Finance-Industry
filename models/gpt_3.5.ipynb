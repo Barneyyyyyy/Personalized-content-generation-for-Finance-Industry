{
 "cells": [
  {
   "cell_type": "code",
   "execution_count": 27,
   "metadata": {},
   "outputs": [],
   "source": [
    "from openai import OpenAI\n",
    "from dotenv import load_dotenv\n",
    "import os "
   ]
  },
  {
   "cell_type": "code",
   "execution_count": 28,
   "metadata": {},
   "outputs": [],
   "source": [
    "# Load the environment variables from the .env file\n",
    "load_dotenv()\n",
    "client = OpenAI(api_key=os.getenv('OPENAI_API_KEY'))"
   ]
  },
  {
   "cell_type": "markdown",
   "metadata": {},
   "source": [
    "Prepare the dataset\n",
    "\n",
    "Dealing with list format, as shown above, might be convenient for small datasets. However, there are several benefits to saving the data in JSONL (JSON Lines) format. The benefits include scalability, interoperability, simplicity, and also compatibility with OpenAI API, which requires data in JSONL format when creating fine-tuning jobs.\n",
    "\n",
    "The following code leverages the helper function prepare_data to create both the training and validation data in JSONL formats:"
   ]
  },
  {
   "cell_type": "code",
   "execution_count": 29,
   "metadata": {},
   "outputs": [],
   "source": [
    "training_file_name = \"../data/new_data/finetuning_dataset.jsonl\"\n",
    "validation_file_name = \"../data/validation_gpt_data.jsonl\""
   ]
  },
  {
   "cell_type": "code",
   "execution_count": 30,
   "metadata": {},
   "outputs": [
    {
     "name": "stdout",
     "output_type": "stream",
     "text": [
      "Training File ID: FileObject(id='file-N59UqF5TuZwPnrj1kVfkbgqI', bytes=24632, created_at=1711658629, filename='finetuning_dataset.jsonl', object='file', purpose='fine-tune', status='processed', status_details=None)\n",
      "Validation File ID: FileObject(id='file-zPH1ujZjm1QNWUoyug6Ws8zW', bytes=100174, created_at=1711658630, filename='validation_gpt_data.jsonl', object='file', purpose='fine-tune', status='processed', status_details=None)\n"
     ]
    }
   ],
   "source": [
    "training_file_id = client.files.create(\n",
    "  file=open(training_file_name, \"rb\"),\n",
    "  purpose=\"fine-tune\"\n",
    ")\n",
    "\n",
    "validation_file_id = client.files.create(\n",
    "  file=open(validation_file_name, \"rb\"),\n",
    "  purpose=\"fine-tune\"\n",
    ")\n",
    "\n",
    "print(f\"Training File ID: {training_file_id}\")\n",
    "print(f\"Validation File ID: {validation_file_id}\")"
   ]
  },
  {
   "cell_type": "markdown",
   "metadata": {},
   "source": [
    "### Create a fine-tuning job\n",
    "\n",
    "This fine-tuning process is highly inspired by the openai-cookbook performing fine-tuning on Microsoft Azure.\n",
    "\n",
    "To perform the fine-tuning we will use the following two steps: (1) define hyperparameters, and (2) trigger the fine-tuning.\n",
    "\n",
    "We will fine-tune the davinci model and run it for 15 epochs using a batch size of 3 and a learning rate multiplier of 0.3 using the training and validation datasets."
   ]
  },
  {
   "cell_type": "markdown",
   "metadata": {},
   "source": [
    "Successful execution of the previous code displays below the unique identifier of the training and validation data."
   ]
  },
  {
   "cell_type": "code",
   "execution_count": 31,
   "metadata": {},
   "outputs": [
    {
     "name": "stdout",
     "output_type": "stream",
     "text": [
      "Fine-tunning model with jobID: ftjob-Cz9oUrArJEJnGLAtijUdGOoX.\n",
      "Training Response: FineTuningJob(id='ftjob-Cz9oUrArJEJnGLAtijUdGOoX', created_at=1711658631, error=Error(code=None, message=None, param=None, error=None), fine_tuned_model=None, finished_at=None, hyperparameters=Hyperparameters(n_epochs=15, batch_size=3, learning_rate_multiplier=0.3), model='gpt-3.5-turbo-0125', object='fine_tuning.job', organization_id='org-wkUFLlJRyOXDuAkBFUtPtrii', result_files=[], status='validating_files', trained_tokens=None, training_file='file-N59UqF5TuZwPnrj1kVfkbgqI', validation_file='file-zPH1ujZjm1QNWUoyug6Ws8zW', user_provided_suffix=None)\n",
      "Training Status: validating_files\n"
     ]
    }
   ],
   "source": [
    "response = client.fine_tuning.jobs.create(\n",
    "  training_file=training_file_id.id, \n",
    "  validation_file=validation_file_id.id,\n",
    "  model=\"gpt-3.5-turbo\", \n",
    "  hyperparameters={\n",
    "    \"n_epochs\": 15,\n",
    "\t\"batch_size\": 3,\n",
    "\t\"learning_rate_multiplier\": 0.3\n",
    "  }\n",
    ")\n",
    "job_id = response.id\n",
    "status = response.status\n",
    "\n",
    "print(f'Fine-tunning model with jobID: {job_id}.')\n",
    "print(f\"Training Response: {response}\")\n",
    "print(f\"Training Status: {status}\")"
   ]
  },
  {
   "cell_type": "markdown",
   "metadata": {},
   "source": [
    "The code above generates the following information for the jobID (`ftjob-SqZvz9Rpjn2nSxtsn8ozMJu4`), the training response, and the training status (pending)."
   ]
  },
  {
   "cell_type": "markdown",
   "metadata": {},
   "source": [
    "This pending status does not provide any relevant information. However, we can have more insight into the training process by running the following code:"
   ]
  },
  {
   "cell_type": "code",
   "execution_count": 32,
   "metadata": {},
   "outputs": [
    {
     "name": "stdout",
     "output_type": "stream",
     "text": [
      "Streaming events for the fine-tuning job: ftjob-Cz9oUrArJEJnGLAtijUdGOoX\n",
      "2024-03-28 16:43:51 Validating training file: file-N59UqF5TuZwPnrj1kVfkbgqI and validation file: file-zPH1ujZjm1QNWUoyug6Ws8zW\n",
      "2024-03-28 16:43:51 Created fine-tuning job: ftjob-Cz9oUrArJEJnGLAtijUdGOoX\n"
     ]
    }
   ],
   "source": [
    "import signal\n",
    "import datetime\n",
    "\n",
    "\n",
    "def signal_handler(sig, frame):\n",
    "    status = client.fine_tuning.jobs.retrieve(job_id).status\n",
    "    print(f\"Stream interrupted. Job is still {status}.\")\n",
    "    return\n",
    "\n",
    "\n",
    "print(f\"Streaming events for the fine-tuning job: {job_id}\")\n",
    "\n",
    "signal.signal(signal.SIGINT, signal_handler)\n",
    "\n",
    "events = client.fine_tuning.jobs.list_events(fine_tuning_job_id=job_id)\n",
    "try:\n",
    "    for event in events:\n",
    "        print(\n",
    "            f'{datetime.datetime.fromtimestamp(event.created_at)} {event.message}'\n",
    "        )\n",
    "except Exception:\n",
    "    print(\"Stream interrupted (client disconnected).\")"
   ]
  },
  {
   "cell_type": "markdown",
   "metadata": {},
   "source": [
    "### Check the fine-tuning job status\n",
    "\n",
    "Let's verify that our operation was successful, and additionally, we can examine all the fine-tuning operations by using a list operation."
   ]
  },
  {
   "cell_type": "code",
   "execution_count": 33,
   "metadata": {},
   "outputs": [
    {
     "name": "stdout",
     "output_type": "stream",
     "text": [
      "Job not in terminal status: validating_files. Waiting.\n",
      "Status: validating_files\n",
      "Status: validating_files\n",
      "Status: validating_files\n",
      "Status: validating_files\n",
      "Status: validating_files\n",
      "Status: validating_files\n",
      "Status: validating_files\n",
      "Status: validating_files\n",
      "Status: validating_files\n",
      "Status: validating_files\n",
      "Status: validating_files\n",
      "Status: validating_files\n",
      "Status: validating_files\n",
      "Status: validating_files\n",
      "Status: validating_files\n",
      "Status: running\n",
      "Status: running\n",
      "Status: running\n",
      "Status: running\n",
      "Status: running\n",
      "Status: running\n",
      "Status: running\n",
      "Status: running\n",
      "Status: running\n",
      "Status: running\n",
      "Status: running\n",
      "Status: running\n",
      "Status: running\n",
      "Status: running\n",
      "Status: running\n",
      "Status: running\n",
      "Status: running\n",
      "Status: running\n",
      "Status: running\n",
      "Status: running\n",
      "Status: running\n",
      "Status: running\n",
      "Status: running\n",
      "Status: running\n",
      "Status: running\n",
      "Status: running\n",
      "Status: running\n",
      "Status: running\n",
      "Status: running\n",
      "Status: running\n",
      "Status: running\n",
      "Status: running\n",
      "Status: running\n",
      "Status: running\n",
      "Status: running\n",
      "Status: running\n",
      "Status: running\n",
      "Status: running\n",
      "Status: running\n",
      "Status: running\n",
      "Status: running\n",
      "Status: running\n",
      "Status: running\n",
      "Status: running\n",
      "Status: running\n",
      "Status: running\n",
      "Status: running\n",
      "Status: running\n",
      "Status: running\n",
      "Status: running\n",
      "Status: running\n",
      "Status: running\n",
      "Status: running\n",
      "Status: running\n",
      "Status: running\n",
      "Status: running\n",
      "Status: running\n",
      "Status: running\n",
      "Status: running\n",
      "Status: running\n",
      "Status: running\n",
      "Status: running\n",
      "Status: running\n",
      "Status: running\n",
      "Status: running\n",
      "Status: running\n",
      "Status: running\n",
      "Status: running\n",
      "Status: running\n",
      "Status: running\n",
      "Status: running\n",
      "Status: running\n",
      "Status: running\n",
      "Status: running\n",
      "Status: running\n",
      "Status: running\n",
      "Status: running\n",
      "Status: running\n",
      "Status: running\n",
      "Status: running\n",
      "Status: running\n",
      "Status: running\n",
      "Status: running\n",
      "Status: running\n",
      "Status: running\n",
      "Status: running\n",
      "Status: running\n",
      "Status: running\n",
      "Status: running\n",
      "Status: running\n",
      "Status: running\n",
      "Status: running\n",
      "Status: running\n",
      "Status: running\n",
      "Status: running\n",
      "Status: running\n",
      "Status: running\n",
      "Status: running\n",
      "Status: running\n",
      "Status: running\n",
      "Status: running\n",
      "Status: running\n",
      "Status: running\n",
      "Status: running\n",
      "Status: running\n",
      "Status: running\n",
      "Status: running\n",
      "Status: running\n",
      "Status: running\n",
      "Status: running\n",
      "Status: running\n",
      "Status: running\n",
      "Status: running\n",
      "Status: running\n",
      "Status: running\n",
      "Status: running\n",
      "Status: running\n",
      "Status: running\n",
      "Status: running\n",
      "Status: running\n",
      "Status: running\n",
      "Status: running\n",
      "Status: running\n",
      "Status: running\n",
      "Status: running\n",
      "Status: running\n",
      "Status: running\n",
      "Status: running\n",
      "Status: running\n",
      "Status: running\n",
      "Status: running\n",
      "Status: running\n",
      "Status: running\n",
      "Status: running\n",
      "Status: running\n",
      "Status: running\n",
      "Status: running\n",
      "Status: running\n",
      "Status: running\n",
      "Status: running\n",
      "Status: running\n",
      "Status: running\n",
      "Status: running\n",
      "Status: running\n",
      "Status: running\n",
      "Status: running\n",
      "Status: running\n",
      "Status: running\n",
      "Status: running\n",
      "Status: running\n",
      "Status: running\n",
      "Status: running\n",
      "Status: running\n",
      "Status: running\n",
      "Status: running\n",
      "Status: running\n",
      "Status: running\n",
      "Status: running\n",
      "Status: running\n",
      "Status: running\n",
      "Status: running\n",
      "Status: running\n",
      "Status: running\n",
      "Status: running\n",
      "Status: running\n",
      "Status: running\n",
      "Status: running\n",
      "Status: running\n",
      "Status: running\n",
      "Status: running\n",
      "Status: running\n",
      "Status: running\n",
      "Status: running\n",
      "Status: running\n",
      "Status: running\n",
      "Status: running\n",
      "Status: succeeded\n",
      "Checking other finetune jobs in the subscription.\n",
      "Found 11 finetune jobs.\n"
     ]
    }
   ],
   "source": [
    "import time\n",
    "\n",
    "status = client.fine_tuning.jobs.retrieve(job_id).status\n",
    "if status not in [\"succeeded\", \"failed\"]:\n",
    "    print(f\"Job not in terminal status: {status}. Waiting.\")\n",
    "    while status not in [\"succeeded\", \"failed\"]:\n",
    "        time.sleep(2)\n",
    "        status = client.fine_tuning.jobs.retrieve(job_id).status\n",
    "        print(f\"Status: {status}\")\n",
    "else:\n",
    "    print(f\"Finetune job {job_id} finished with status: {status}\")\n",
    "print(\"Checking other finetune jobs in the subscription.\")\n",
    "result = client.fine_tuning.jobs.list()\n",
    "print(f\"Found {len(result.data)} finetune jobs.\")"
   ]
  },
  {
   "cell_type": "markdown",
   "metadata": {},
   "source": [
    "### Validation of the model\n",
    "\n",
    "Finally, the fine-tuned model can be retrieved from the “fine_tuned_model” attribute. The following print statement shows that the name of the final mode is: `ft:davinci-002:personal::8gKnyxn3`"
   ]
  },
  {
   "cell_type": "code",
   "execution_count": 37,
   "metadata": {},
   "outputs": [
    {
     "name": "stdout",
     "output_type": "stream",
     "text": [
      "ft:gpt-3.5-turbo-0125:personal::97qznw0E\n"
     ]
    }
   ],
   "source": [
    "# Retrieve the finetuned model\n",
    "fine_tuned_model = result.data[0].fine_tuned_model\n",
    "print(fine_tuned_model)\n"
   ]
  },
  {
   "cell_type": "markdown",
   "metadata": {},
   "source": [
    "With this model, we can run queries to validate its results by providing a prompt, the model name, and creating a query with the openai.Completion.create() function. The result is retrieved from the answer dictionary as follows:"
   ]
  },
  {
   "cell_type": "code",
   "execution_count": 39,
   "metadata": {},
   "outputs": [
    {
     "name": "stdout",
     "output_type": "stream",
     "text": [
      "ChatCompletionMessage(content=\"Welcome to our leading financial institution, where your financial journey starts with assurance and growth. Explore our New Beginnings Savings Account, tailored exclusively for permanent residents like you. This account offers more than just a place to keep your savings; it represents a value and growth-driven financial relationship you can trust.\\n\\n**New Beginnings Savings Account for Permanent Residents at a Glance:**\\n\\n**High-Yield Interest Rates:** Enjoy a competitive interest rate that grows your savings effectively and aligns with your aspirations.\\n\\n**No Monthly Maintenance Fee:** We value your progress towards reaching your financial goals — that's why there are no monthly maintenance fees associated with the account.\\n\\n**Easy Access and Online Personal Banking:** Access your account information, move money, deposit checks, and view transaction history with our online and mobile banking services. Experience seamless banking, tailored to meet your needs, wherever you are.\\n\\n**Priority Service and Special Offers:** Count on premium customer service from a dedicated team that understands your unique needs as a permanent resident. Benefit from exclusive offers and rates to boost your savings.\\n\\n**Feel confident in your financial future. Your journey matters, and we're here to help you prosper and grow sustainably. Welcome to New Beginnings Savings Account — start your financial success with us.**\", role='assistant', function_call=None, tool_calls=None)\n"
     ]
    }
   ],
   "source": [
    "answer = client.chat.completions.create(\n",
    "  model=fine_tuned_model,\n",
    "  messages=[\n",
    "    {\"role\": \"system\", \"content\": \"This is a parameter-based prompt for creating marketing materials\"},\n",
    "    {\"role\": \"user\", \"content\": \"Develop comprehensive website content for our New Beginnings Savings Account, specifically designed for permanent residents.\"}\n",
    "  ]\n",
    ")\n",
    "print(answer.choices[0].message)\n",
    "\n",
    "# new_prompt = \"Design an email for the TD Student Line of Credit, aimed at students seeking flexible funding solutions for their academic journey\"\n",
    "# answer = client.completions.create(\n",
    "#   model=fine_tuned_model,\n",
    "#   prompt=new_prompt\n",
    "# )\n",
    "\n",
    "# print(answer.choices[0].text)"
   ]
  },
  {
   "cell_type": "code",
   "execution_count": 40,
   "metadata": {},
   "outputs": [
    {
     "name": "stdout",
     "output_type": "stream",
     "text": [
      "ChatCompletionMessage(content='Explore perpetual benefits with our Savings Account, tailored for long-term residents. With competitive interest rates, seamless online access, and zero monthly fees, your funds will flourish effortlessly. Enjoy peace of mind with free global transfers and industry-leading security. Extend your savings with adjustable terms and automatic deposits. Our intuitive mobile app means financial freedom is always within reach. Join a bank that knows the value of permanency, providing lifetime support and loyalty rewards. Your future deserves stability. Your savings deserve growth. Partner with us and build a foundation for a prosperous life here, now, and forever.', role='assistant', function_call=None, tool_calls=None)\n"
     ]
    }
   ],
   "source": [
    "answer = client.chat.completions.create(\n",
    "  model=fine_tuned_model,\n",
    "  messages=[\n",
    "    {\"role\": \"system\", \"content\": \"This is a parameter-based prompt for creating marketing materials\"},\n",
    "    {\"role\": \"user\", \"content\": \"Develop comprehensive website content for our Savings Account in 100 words, specifically designed for permanent residents.\"}\n",
    "  ]\n",
    ")\n",
    "print(answer.choices[0].message)\n",
    "\n",
    "# new_prompt = \"Design an email for the TD Student Line of Credit, aimed at students seeking flexible funding solutions for their academic journey\"\n",
    "# answer = client.completions.create(\n",
    "#   model=fine_tuned_model,\n",
    "#   prompt=new_prompt\n",
    "# )\n",
    "\n",
    "# print(answer.choices[0].text)"
   ]
  },
  {
   "cell_type": "code",
   "execution_count": 42,
   "metadata": {},
   "outputs": [
    {
     "name": "stdout",
     "output_type": "stream",
     "text": [
      "ChatCompletionMessage(content='🏡 Are you a permanent resident looking to put down roots in the land of opportunity? Let us help you unlock the door to your dream home! 🌟\\n\\n🛠️ Our innovative mortgages are tailor-made for permanent residents, making the process smoother and more rewarding. We understand the nuances that come with your residency status and are here to guide you every step of the way!\\n\\n🔑 Dive into our exclusive range of mortgage packages, each one as unique as the American Dream itself. From low down payments to attractive interest rates, we\\'ve got you covered. Our dedicated team will ensure that you secure a mortgage that not only fits your financial situation but also aligns with your long-term goals.\\n\\n🏋️\\u200d♀️ Worried about credit history? Don\\'t be! We specialize in working with residents building their credit scores in the U.S. Lenders that understand your journey are here walking by your side.\\n\\n📈 Plus, with our renowned online application process, getting closer to your new home is just a click away. Let\\'s make paperwork a thing of the past together!\\n\\n🌺 Find financial tranquility with a mortgage that supports your vision. Let us be your bridge to that front door where \"Welcome Home\" is more than an inscription – it\\'s an invitation to the future. Invest today in the place where permanence and prosperity meet.\\n\\n📲 Reach out and take the first step towards securing your forever home today! #MortgagesForDreams #SecureYourFuture #PermanentResidentMortgages', role='assistant', function_call=None, tool_calls=None)\n"
     ]
    }
   ],
   "source": [
    "answer = client.chat.completions.create(\n",
    "  model=fine_tuned_model,\n",
    "  messages=[\n",
    "    {\"role\": \"system\", \"content\": \"This is a parameter-based prompt for creating marketing materials\"},\n",
    "    {\"role\": \"user\", \"content\": \"create detailed social media content for mortage seekers in 300 words, specifically designed for permanent residents.\"}\n",
    "  ]\n",
    ")\n",
    "print(answer.choices[0].message)\n",
    "\n",
    "# new_prompt = \"Design an email for the TD Student Line of Credit, aimed at students seeking flexible funding solutions for their academic journey\"\n",
    "# answer = client.completions.create(\n",
    "#   model=fine_tuned_model,\n",
    "#   prompt=new_prompt\n",
    "# )\n",
    "\n",
    "# print(answer.choices[0].text)"
   ]
  },
  {
   "cell_type": "code",
   "execution_count": 43,
   "metadata": {},
   "outputs": [
    {
     "name": "stdout",
     "output_type": "stream",
     "text": [
      "ChatCompletionMessage(content=\"Are you looking to put down roots and establish your own piece of paradise in a new country? Unlock the door to your next chapter as a permanent resident with our hassle-free mortgage solutions! Our experienced team understands the unique needs of newcomers and is here to guide you every step of the way. From pre-approval to unlocking the front door of your dream home, we have you covered. As a permanent resident, your future is bright, and we're excited to be part of that journey. Welcome home! #MortgageAdventures #PermanentResidentLife\", role='assistant', function_call=None, tool_calls=None)\n"
     ]
    }
   ],
   "source": [
    "answer = client.chat.completions.create(\n",
    "  model=fine_tuned_model,\n",
    "  messages=[\n",
    "    {\"role\": \"system\", \"content\": \"This is a parameter-based prompt for creating marketing materials\"},\n",
    "    {\"role\": \"user\", \"content\": \"create detailed social media content for mortage seekers, specifically designed for permanent residents.\"}\n",
    "  ]\n",
    ")\n",
    "print(answer.choices[0].message)\n",
    "\n",
    "# new_prompt = \"Design an email for the TD Student Line of Credit, aimed at students seeking flexible funding solutions for their academic journey\"\n",
    "# answer = client.completions.create(\n",
    "#   model=fine_tuned_model,\n",
    "#   prompt=new_prompt\n",
    "# )\n",
    "\n",
    "# print(answer.choices[0].text)"
   ]
  },
  {
   "cell_type": "code",
   "execution_count": 45,
   "metadata": {},
   "outputs": [
    {
     "name": "stdout",
     "output_type": "stream",
     "text": [
      "ChatCompletionMessage(content=\"🏡🔍 Looking to purchase your dream home in the U.S.? Our mortgage solutions are tailored for permanent residents with low rates, minimal down payments, and competitive terms to help you achieve homeownership. Say goodbye to sky-high rents and invest in your future starting today. Whether you're new to the mortgage process or seeking to refinance, our expert team understands the unique needs of permanent residents and will guide you every step of the way. Why let citizenship status hold you back from living the American Dream? DM us to learn more about our exclusive offers and eligibility requirements - your new home might be more within reach than you think. Come home to stability, security, and the pride of owning where your heart is. Housing stability - a step closer to citizenship and community integration. Let's make this journey together. 🇺🇸❤️ #MortgagesForResidents #DreamHome #PermanentResidency #MortgageSolutions\", role='assistant', function_call=None, tool_calls=None)\n"
     ]
    }
   ],
   "source": [
    "answer = client.chat.completions.create(\n",
    "  model=fine_tuned_model,\n",
    "  messages=[\n",
    "    {\"role\": \"system\", \"content\": \"This is a parameter-based prompt for creating marketing materials\"},\n",
    "    {\"role\": \"user\", \"content\": \"create detailed social media content for mortage seekers in 200 words, specifically designed for permanent residents.\"}\n",
    "  ]\n",
    ")\n",
    "print(answer.choices[0].message)\n",
    "\n",
    "# new_prompt = \"Design an email for the TD Student Line of Credit, aimed at students seeking flexible funding solutions for their academic journey\"\n",
    "# answer = client.completions.create(\n",
    "#   model=fine_tuned_model,\n",
    "#   prompt=new_prompt\n",
    "# )\n",
    "\n",
    "# print(answer.choices[0].text)"
   ]
  },
  {
   "cell_type": "code",
   "execution_count": null,
   "metadata": {},
   "outputs": [
    {
     "ename": "NameError",
     "evalue": "name 'client' is not defined",
     "output_type": "error",
     "traceback": [
      "\u001b[0;31m---------------------------------------------------------------------------\u001b[0m",
      "\u001b[0;31mNameError\u001b[0m                                 Traceback (most recent call last)",
      "Cell \u001b[0;32mIn[3], line 1\u001b[0m\n\u001b[0;32m----> 1\u001b[0m answer \u001b[38;5;241m=\u001b[39m \u001b[43mclient\u001b[49m\u001b[38;5;241m.\u001b[39mchat\u001b[38;5;241m.\u001b[39mcompletions\u001b[38;5;241m.\u001b[39mcreate(\n\u001b[1;32m      2\u001b[0m   model\u001b[38;5;241m=\u001b[39mfine_tuned_model,\n\u001b[1;32m      3\u001b[0m   messages\u001b[38;5;241m=\u001b[39m[\n\u001b[1;32m      4\u001b[0m     {\u001b[38;5;124m\"\u001b[39m\u001b[38;5;124mrole\u001b[39m\u001b[38;5;124m\"\u001b[39m: \u001b[38;5;124m\"\u001b[39m\u001b[38;5;124msystem\u001b[39m\u001b[38;5;124m\"\u001b[39m, \u001b[38;5;124m\"\u001b[39m\u001b[38;5;124mcontent\u001b[39m\u001b[38;5;124m\"\u001b[39m: \u001b[38;5;124m\"\u001b[39m\u001b[38;5;124mThis is a parameter-based prompt for creating marketing materials\u001b[39m\u001b[38;5;124m\"\u001b[39m},\n\u001b[1;32m      5\u001b[0m     {\u001b[38;5;124m\"\u001b[39m\u001b[38;5;124mrole\u001b[39m\u001b[38;5;124m\"\u001b[39m: \u001b[38;5;124m\"\u001b[39m\u001b[38;5;124muser\u001b[39m\u001b[38;5;124m\"\u001b[39m, \u001b[38;5;124m\"\u001b[39m\u001b[38;5;124mcontent\u001b[39m\u001b[38;5;124m\"\u001b[39m: \u001b[38;5;124m\"\u001b[39m\u001b[38;5;124mCreate a website marketing campaign for a Checking Account aimed at International Students in 5 lines\u001b[39m\u001b[38;5;124m\"\u001b[39m}\n\u001b[1;32m      6\u001b[0m   ]\n\u001b[1;32m      7\u001b[0m )\n\u001b[1;32m      8\u001b[0m \u001b[38;5;28mprint\u001b[39m(answer\u001b[38;5;241m.\u001b[39mchoices[\u001b[38;5;241m0\u001b[39m]\u001b[38;5;241m.\u001b[39mmessage)\n",
      "\u001b[0;31mNameError\u001b[0m: name 'client' is not defined"
     ]
    }
   ],
   "source": [
    "answer = client.chat.completions.create(\n",
    "  model=fine_tuned_model,\n",
    "  messages=[\n",
    "    {\"role\": \"system\", \"content\": \"This is a parameter-based prompt for creating marketing materials\"},\n",
    "    {\"role\": \"user\", \"content\": \"Create a website marketing campaign for a Checking Account aimed at International Students in 5 lines\"}\n",
    "  ]\n",
    ")\n",
    "print(answer.choices[0].message)"
   ]
  }
 ],
 "metadata": {
  "kernelspec": {
   "display_name": "Python 3",
   "language": "python",
   "name": "python3"
  },
  "language_info": {
   "codemirror_mode": {
    "name": "ipython",
    "version": 3
   },
   "file_extension": ".py",
   "mimetype": "text/x-python",
   "name": "python",
   "nbconvert_exporter": "python",
   "pygments_lexer": "ipython3",
   "version": "3.11.5"
  }
 },
 "nbformat": 4,
 "nbformat_minor": 2
}
