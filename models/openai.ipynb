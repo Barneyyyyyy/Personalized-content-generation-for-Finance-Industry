{
 "cells": [
  {
   "cell_type": "code",
   "execution_count": 1,
   "id": "5007d482",
   "metadata": {},
   "outputs": [
    {
     "data": {
      "text/plain": [
       "True"
      ]
     },
     "execution_count": 1,
     "metadata": {},
     "output_type": "execute_result"
    }
   ],
   "source": [
    "import os\n",
    "import sys\n",
    "\n",
    "import openai\n",
    "from langchain.chains import ConversationalRetrievalChain, RetrievalQA\n",
    "from langchain.chat_models import ChatOpenAI\n",
    "from langchain.document_loaders import DirectoryLoader, TextLoader\n",
    "from langchain.embeddings import OpenAIEmbeddings\n",
    "from langchain.indexes import VectorstoreIndexCreator\n",
    "from langchain.indexes.vectorstore import VectorStoreIndexWrapper\n",
    "from langchain.llms import OpenAI\n",
    "from langchain.vectorstores import Chroma\n",
    "\n",
    "from dotenv import load_dotenv\n",
    "load_dotenv()"
   ]
  },
  {
   "cell_type": "code",
   "execution_count": 8,
   "id": "1474988a",
   "metadata": {},
   "outputs": [],
   "source": [
    "os.environ[\"OPENAI_API_KEY\"] = os.getenv('OPENAI_API_KEY')"
   ]
  },
  {
   "cell_type": "code",
   "execution_count": 10,
   "id": "973640ba",
   "metadata": {},
   "outputs": [
    {
     "name": "stderr",
     "output_type": "stream",
     "text": [
      "/Users/diegobolanos/Documents/GitHub/Personalized-content-generation-for-Finance-Industry/venv/lib/python3.11/site-packages/langchain_core/_api/deprecation.py:117: LangChainDeprecationWarning: The class `langchain_community.chat_models.openai.ChatOpenAI` was deprecated in langchain-community 0.0.10 and will be removed in 0.2.0. An updated version of the class exists in the langchain-openai package and should be used instead. To use it run `pip install -U langchain-openai` and import as `from langchain_openai import ChatOpenAI`.\n",
      "  warn_deprecated(\n",
      "/Users/diegobolanos/Documents/GitHub/Personalized-content-generation-for-Finance-Industry/venv/lib/python3.11/site-packages/langchain_core/_api/deprecation.py:117: LangChainDeprecationWarning: The function `__call__` was deprecated in LangChain 0.1.0 and will be removed in 0.2.0. Use invoke instead.\n",
      "  warn_deprecated(\n"
     ]
    },
    {
     "name": "stdout",
     "output_type": "stream",
     "text": [
      "I'm sorry, but I don't have access to the file at the specified location. Is there anything else I can help you with?\n",
      "The names of the people are John Doe, Jane Smith, Michael Johnson, Emily Williams, and David Brown.\n",
      "The names of the people are John Doe, Jane Smith, Michael Johnson, Emily Williams, and David Brown.\n",
      "The names of the people are John Doe, Jane Smith, Michael Johnson, Emily Williams, and David Brown.\n"
     ]
    },
    {
     "ename": "SystemExit",
     "evalue": "",
     "output_type": "error",
     "traceback": [
      "An exception has occurred, use %tb to see the full traceback.\n",
      "\u001b[0;31mSystemExit\u001b[0m\n"
     ]
    },
    {
     "name": "stderr",
     "output_type": "stream",
     "text": [
      "/Users/diegobolanos/Documents/GitHub/Personalized-content-generation-for-Finance-Industry/venv/lib/python3.11/site-packages/IPython/core/interactiveshell.py:3561: UserWarning: To exit: use 'exit', 'quit', or Ctrl-D.\n",
      "  warn(\"To exit: use 'exit', 'quit', or Ctrl-D.\", stacklevel=1)\n"
     ]
    }
   ],
   "source": [
    "# Enable to save to disk & reuse the model (for repeated queries on the same data)\n",
    "PERSIST = False\n",
    "\n",
    "query = None\n",
    "if len(sys.argv) > 1:\n",
    "  query = sys.argv[1]\n",
    "\n",
    "if PERSIST and os.path.exists(\"persist\"):\n",
    "  print(\"Reusing index...\\n\")\n",
    "  vectorstore = Chroma(persist_directory=\"persist\", embedding_function=OpenAIEmbeddings())\n",
    "  index = VectorStoreIndexWrapper(vectorstore=vectorstore)\n",
    "else:\n",
    "  loader = TextLoader(\"../data/data.txt\") # Use this line if you only need data.txt\n",
    "  #loader = DirectoryLoader(\"../data\")\n",
    "  if PERSIST:\n",
    "    index = VectorstoreIndexCreator(vectorstore_kwargs={\"persist_directory\":\"persist\"}).from_loaders([loader])\n",
    "  else:\n",
    "    index = VectorstoreIndexCreator().from_loaders([loader])\n",
    "\n",
    "chain = ConversationalRetrievalChain.from_llm(\n",
    "  llm=ChatOpenAI(model=\"gpt-3.5-turbo\"),\n",
    "  retriever=index.vectorstore.as_retriever(search_kwargs={\"k\": 1}),\n",
    ")\n",
    "\n",
    "chat_history = []\n",
    "while True:\n",
    "  if not query:\n",
    "    query = input(\"Prompt: \")\n",
    "  if query in ['quit', 'q', 'exit']:\n",
    "    sys.exit()\n",
    "  result = chain({\"question\": query, \"chat_history\": chat_history})\n",
    "  print(result['answer'])\n",
    "\n",
    "  chat_history.append((query, result['answer']))\n",
    "  query = None\n"
   ]
  }
 ],
 "metadata": {
  "kernelspec": {
   "display_name": "venv",
   "language": "python",
   "name": "python3"
  },
  "language_info": {
   "codemirror_mode": {
    "name": "ipython",
    "version": 3
   },
   "file_extension": ".py",
   "mimetype": "text/x-python",
   "name": "python",
   "nbconvert_exporter": "python",
   "pygments_lexer": "ipython3",
   "version": "3.11.5"
  }
 },
 "nbformat": 4,
 "nbformat_minor": 5
}
