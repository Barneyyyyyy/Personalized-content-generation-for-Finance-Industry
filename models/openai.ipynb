{
 "cells": [
  {
   "cell_type": "code",
   "execution_count": 3,
   "metadata": {},
   "outputs": [],
   "source": [
    "from openai import OpenAI\n",
    "from dotenv import load_dotenv"
   ]
  },
  {
   "cell_type": "code",
   "execution_count": 4,
   "metadata": {},
   "outputs": [],
   "source": [
    "import os \n",
    "# Load the environment variables from the .env file\n",
    "load_dotenv()\n",
    "client = OpenAI(api_key=os.getenv('OPENAI_API_KEY'))"
   ]
  },
  {
   "cell_type": "code",
   "execution_count": 9,
   "metadata": {},
   "outputs": [
    {
     "name": "stdout",
     "output_type": "stream",
     "text": [
      "FileObject(id='file-8JxSQzarZ7mDors1brtI55eW', bytes=100174, created_at=1710722198, filename='parameter_based_dataset.jsonl', object='file', purpose='fine-tune', status='processed', status_details=None)\n"
     ]
    }
   ],
   "source": [
    "response = client.files.create(\n",
    "  file=open(\"../data/parameter_based_dataset.jsonl\", \"rb\"),\n",
    "  purpose=\"fine-tune\"\n",
    ")\n",
    "print(response)"
   ]
  },
  {
   "cell_type": "code",
   "execution_count": 11,
   "metadata": {},
   "outputs": [
    {
     "name": "stdout",
     "output_type": "stream",
     "text": [
      "FineTuningJob(id='ftjob-Tt63qoaHhX7H1PZFiAVg7Kin', created_at=1710722248, error=Error(code=None, message=None, param=None, error=None), fine_tuned_model=None, finished_at=None, hyperparameters=Hyperparameters(n_epochs='auto', batch_size='auto', learning_rate_multiplier='auto'), model='gpt-3.5-turbo-0125', object='fine_tuning.job', organization_id='org-wkUFLlJRyOXDuAkBFUtPtrii', result_files=[], status='validating_files', trained_tokens=None, training_file='file-8JxSQzarZ7mDors1brtI55eW', validation_file=None, user_provided_suffix=None)\n"
     ]
    }
   ],
   "source": [
    "file_id = 'file-8JxSQzarZ7mDors1brtI55eW'\n",
    "fine_tuning_job = client.fine_tuning.jobs.create(training_file=file_id, model=\"gpt-3.5-turbo\")    \n",
    "print(fine_tuning_job)"
   ]
  },
  {
   "cell_type": "code",
   "execution_count": 12,
   "metadata": {},
   "outputs": [
    {
     "name": "stderr",
     "output_type": "stream",
     "text": [
      "/Users/diegobolanos/Documents/GitHub/Personalized-content-generation-for-Finance-Industry/venv/lib/python3.11/site-packages/langchain_core/_api/deprecation.py:117: LangChainDeprecationWarning: The class `langchain_community.chat_models.openai.ChatOpenAI` was deprecated in langchain-community 0.0.10 and will be removed in 0.2.0. An updated version of the class exists in the langchain-openai package and should be used instead. To use it run `pip install -U langchain-openai` and import as `from langchain_openai import ChatOpenAI`.\n",
      "  warn_deprecated(\n",
      "/Users/diegobolanos/Documents/GitHub/Personalized-content-generation-for-Finance-Industry/venv/lib/python3.11/site-packages/langchain_core/_api/deprecation.py:117: LangChainDeprecationWarning: The function `__call__` was deprecated in LangChain 0.1.7 and will be removed in 0.2.0. Use invoke instead.\n",
      "  warn_deprecated(\n"
     ]
    },
    {
     "name": "stdout",
     "output_type": "stream",
     "text": [
      "1. Fintech innovation: The finance industry is seeing a rise in financial technology (fintech) companies that are revolutionizing traditional banking and investment services. These companies are using technology like artificial intelligence, blockchain, and mobile apps to provide more efficient and user-friendly financial services.\n",
      "\n",
      "2. Digital banking: With the increasing use of smartphones and online banking, traditional brick-and-mortar banks are facing competition from digital-only banks. These banks offer lower fees, higher interest rates, and more personalized services to attract tech-savvy customers.\n",
      "\n",
      "3. Sustainable investing: There is a growing trend towards sustainable and socially responsible investing, with more investors seeking to put their money into companies that have a positive impact on society and the environment. This has led to the rise of ESG (environmental, social, and governance) investing and impact investing.\n",
      "\n",
      "4. Cryptocurrency and blockchain: Cryptocurrencies like Bitcoin and Ethereum have gained popularity as alternative forms of investment and payment. Blockchain technology, which underpins cryptocurrencies, is also being used in the finance industry for secure and transparent transactions.\n",
      "\n",
      "5. Open banking: Open banking regulations are opening up the financial industry to more competition and innovation by allowing third-party developers to access customer banking data. This has led to the development of new financial products and services that offer more personalized and tailored solutions to customers.\n",
      "\n",
      "6. Artificial intelligence and machine learning: Financial institutions are increasingly using artificial intelligence and machine learning algorithms to automate processes, improve customer service, and detect fraud. These technologies are also being used for predictive analytics and risk management.\n",
      "\n",
      "7. Regulatory changes: The finance industry is constantly evolving due to changes in regulations and compliance requirements. This includes new data protection laws, anti-money laundering regulations, and cybersecurity standards that are shaping how financial institutions operate and protect customer data.\n"
     ]
    }
   ],
   "source": [
    "from langchain.chat_models import ChatOpenAI\n",
    "from langchain. schema import HumanMessage\n",
    "model_name = \"gpt-3.5-turbo\"\n",
    "chat = ChatOpenAI(model=model_name)\n",
    "messages = [\n",
    "   HumanMessage(content=\"What are the current trends in the finance industry?\")\n",
    "]\n",
    "\n",
    "response = chat(messages)\n",
    "print(response. content)"
   ]
  }
 ],
 "metadata": {
  "kernelspec": {
   "display_name": "Python 3",
   "language": "python",
   "name": "python3"
  },
  "language_info": {
   "codemirror_mode": {
    "name": "ipython",
    "version": 3
   },
   "file_extension": ".py",
   "mimetype": "text/x-python",
   "name": "python",
   "nbconvert_exporter": "python",
   "pygments_lexer": "ipython3",
   "version": "3.11.5"
  }
 },
 "nbformat": 4,
 "nbformat_minor": 2
}
