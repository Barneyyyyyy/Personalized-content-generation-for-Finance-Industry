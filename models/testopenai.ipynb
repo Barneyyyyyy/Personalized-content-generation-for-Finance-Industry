{
 "cells": [
  {
   "cell_type": "code",
   "execution_count": 2,
   "metadata": {},
   "outputs": [],
   "source": [
    "from openai import OpenAI\n",
    "from dotenv import load_dotenv"
   ]
  },
  {
   "cell_type": "code",
   "execution_count": 3,
   "metadata": {},
   "outputs": [],
   "source": [
    "import os \n",
    "# Load the environment variables from the .env file\n",
    "load_dotenv()\n",
    "client = OpenAI(api_key=os.getenv('OPENAI_API_KEY'))"
   ]
  },
  {
   "cell_type": "code",
   "execution_count": 14,
   "metadata": {},
   "outputs": [
    {
     "name": "stdout",
     "output_type": "stream",
     "text": [
      "<class 'pandas.core.frame.DataFrame'>\n",
      "RangeIndex: 625 entries, 0 to 624\n",
      "Data columns (total 12 columns):\n",
      " #   Column             Non-Null Count  Dtype \n",
      "---  ------             --------------  ----- \n",
      " 0   index              625 non-null    int64 \n",
      " 1   title              625 non-null    object\n",
      " 2   url                625 non-null    object\n",
      " 3   published_at       625 non-null    object\n",
      " 4   author             397 non-null    object\n",
      " 5   publisher          625 non-null    object\n",
      " 6   short_description  609 non-null    object\n",
      " 7   keywords           625 non-null    object\n",
      " 8   header_image       625 non-null    object\n",
      " 9   raw_description    594 non-null    object\n",
      " 10  description        593 non-null    object\n",
      " 11  scraped_at         625 non-null    object\n",
      "dtypes: int64(1), object(11)\n",
      "memory usage: 58.7+ KB\n"
     ]
    },
    {
     "data": {
      "text/plain": [
       "(   index                                              title  \\\n",
       " 0      0  Santoli’s Wednesday market notes: Could Septem...   \n",
       " 1      1     My take on the early Brexit winners and losers   \n",
       " 2      2  Europe&#039;s recovery depends on Renzi&#039;s...   \n",
       " 3      3  US Moves Closer to Becoming A Major Shareholde...   \n",
       " 4      4  Trump: 'Mission accomplished' on 'perfectly ex...   \n",
       " \n",
       "                                                  url  \\\n",
       " 0  https://www.cnbc.com/2021/09/29/santolis-wedne...   \n",
       " 1  https://www.cnbc.com/2016/06/24/ian-bremmers-t...   \n",
       " 2  https://www.cnbc.com/2014/03/25/europes-recove...   \n",
       " 3  https://www.cnbc.com/2009/04/22/us-moves-close...   \n",
       " 4  https://www.cnbc.com/2018/04/14/trump-mission-...   \n",
       " \n",
       "                published_at                   author publisher  \\\n",
       " 0  2021-09-29T17:09:39+0000          Michael Santoli      CNBC   \n",
       " 1  2016-06-24T13:50:48-0400                      NaN      CNBC   \n",
       " 2  2014-03-25T13:29:45-0400                      NaN      CNBC   \n",
       " 3  2009-04-22T19:49:03+0000  Michelle Caruso-Cabrera      CNBC   \n",
       " 4  2018-04-14T14:59:04+0000          Javier E. David      CNBC   \n",
       " \n",
       "                                    short_description  \\\n",
       " 0  This is the daily notebook of Mike Santoli, CN...   \n",
       " 1  This commentary originally ran on Facebook. Bo...   \n",
       " 2  In spring, ambitious reforms began in Italy. U...   \n",
       " 3  The US government is increasingly likely to co...   \n",
       " 4                                                NaN   \n",
       " \n",
       "                                             keywords  \\\n",
       " 0  cnbc, Premium, Articles, Investment strategy, ...   \n",
       " 1  Articles, Politics, Europe News, European Cent...   \n",
       " 2  Articles, Business News, Economy, Europe Econo...   \n",
       " 3  cnbc, Articles, General Motors Co, Business Ne...   \n",
       " 4  cnbc, Articles, George W. Bush, Vladimir Putin...   \n",
       " \n",
       "                                         header_image  \\\n",
       " 0  https://image.cnbcfm.com/api/v1/image/10694960...   \n",
       " 1  https://fm.cnbc.com/applications/cnbc.com/reso...   \n",
       " 2  https://fm.cnbc.com/applications/cnbc.com/reso...   \n",
       " 3  https://image.cnbcfm.com/api/v1/image/24947979...   \n",
       " 4  https://image.cnbcfm.com/api/v1/image/10513177...   \n",
       " \n",
       "                                      raw_description  \\\n",
       " 0  <div class=\"group\"><p><em>This is the daily no...   \n",
       " 1                                                NaN   \n",
       " 2                                                NaN   \n",
       " 3  <div class=\"group\"><p>The US government is inc...   \n",
       " 4  <div class=\"group\"></div>,<div class=\"group\"><...   \n",
       " \n",
       "                                          description  \\\n",
       " 0  This is the daily notebook of Mike Santoli, CN...   \n",
       " 1                                                NaN   \n",
       " 2                                                NaN   \n",
       " 3  The US government is increasingly likely to co...   \n",
       " 4  President Donald Trump hailed the U.S.-led int...   \n",
       " \n",
       "                    scraped_at  \n",
       " 0  2021-10-30 14:11:23.709372  \n",
       " 1  2021-10-30 14:11:23.820139  \n",
       " 2  2021-10-30 14:11:23.854710  \n",
       " 3  2021-10-30 14:11:24.261143  \n",
       " 4  2021-10-30 14:11:24.489490  ,\n",
       " None)"
      ]
     },
     "execution_count": 14,
     "metadata": {},
     "output_type": "execute_result"
    }
   ],
   "source": [
    "import pandas as pd\n",
    "\n",
    "# Load the dataset\n",
    "file_path = '../data/cnbc_news_datase.csv'\n",
    "data = pd.read_csv(file_path)\n",
    "\n",
    "# Display the first few rows of the dataframe to understand its structure\n",
    "data.head(), data.info()"
   ]
  },
  {
   "cell_type": "markdown",
   "metadata": {},
   "source": [
    "### Selecting articles that might directly or indirectly relate to checking, savings, or credit card products based on their titles or descriptions. "
   ]
  },
  {
   "cell_type": "markdown",
   "metadata": {},
   "source": [
    "### Converting the text into a vector (embeddings) and store them in FAISS index for fast similarity search and retrieval of articles."
   ]
  },
  {
   "cell_type": "code",
   "execution_count": 15,
   "metadata": {},
   "outputs": [
    {
     "data": {
      "text/plain": [
       "(625, 768)"
      ]
     },
     "execution_count": 15,
     "metadata": {},
     "output_type": "execute_result"
    }
   ],
   "source": [
    "from sentence_transformers import SentenceTransformer\n",
    "\n",
    "encoder = SentenceTransformer(\"all-mpnet-base-v2\")\n",
    "vectors = encoder.encode(data['title'].tolist())\n",
    "vectors.shape"
   ]
  },
  {
   "cell_type": "code",
   "execution_count": 11,
   "metadata": {},
   "outputs": [
    {
     "data": {
      "text/plain": [
       "768"
      ]
     },
     "execution_count": 11,
     "metadata": {},
     "output_type": "execute_result"
    }
   ],
   "source": [
    "dim = vectors.shape[1]\n",
    "dim"
   ]
  },
  {
   "cell_type": "code",
   "execution_count": 12,
   "metadata": {},
   "outputs": [],
   "source": [
    "import faiss\n",
    "\n",
    "# Create an index and add the vectors to it for similarity search\n",
    "index = faiss.IndexFlatL2(dim)\n",
    "index.add(vectors)"
   ]
  },
  {
   "cell_type": "code",
   "execution_count": null,
   "metadata": {},
   "outputs": [],
   "source": [
    "search_query = \"How to open a checking account\"\n",
    "vec = encoder.encode(search_query)"
   ]
  },
  {
   "cell_type": "code",
   "execution_count": null,
   "metadata": {},
   "outputs": [],
   "source": [
    "index.search(vec, 5)"
   ]
  }
 ],
 "metadata": {
  "kernelspec": {
   "display_name": "Python 3",
   "language": "python",
   "name": "python3"
  },
  "language_info": {
   "codemirror_mode": {
    "name": "ipython",
    "version": 3
   },
   "file_extension": ".py",
   "mimetype": "text/x-python",
   "name": "python",
   "nbconvert_exporter": "python",
   "pygments_lexer": "ipython3",
   "version": "3.11.5"
  }
 },
 "nbformat": 4,
 "nbformat_minor": 2
}
